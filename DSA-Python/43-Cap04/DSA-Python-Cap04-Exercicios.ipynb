{
 "cells": [
  {
   "attachments": {},
   "cell_type": "markdown",
   "metadata": {},
   "source": [
    "# <font color='blue'>Data Science Academy</font>\n",
    "\n",
    "## <font color='blue'>Fundamentos de Linguagem Python Para Análise de Dados e Data Science</font>\n",
    "\n",
    "## <font color='blue'>Capítulo 4 - Exercícios</font>"
   ]
  },
  {
   "cell_type": "code",
   "execution_count": 24,
   "metadata": {},
   "outputs": [
    {
     "name": "stdout",
     "output_type": "stream",
     "text": [
      "Versão da Linguagem Python Usada Neste Jupyter Notebook: 3.11.3\n"
     ]
    }
   ],
   "source": [
    "# Versão da Linguagem Python\n",
    "from platform import python_version\n",
    "print('Versão da Linguagem Python Usada Neste Jupyter Notebook:', python_version())"
   ]
  },
  {
   "attachments": {},
   "cell_type": "markdown",
   "metadata": {},
   "source": [
    "## Exercícios "
   ]
  },
  {
   "cell_type": "code",
   "execution_count": 25,
   "metadata": {},
   "outputs": [
    {
     "data": {
      "text/plain": [
       "[1, 2, 3, 4, 5, 6, 7, 8, 9, 10]"
      ]
     },
     "execution_count": 25,
     "metadata": {},
     "output_type": "execute_result"
    }
   ],
   "source": [
    "# Exercício 1 - Imprima na tela os números de 1 a 10. Use uma lista para armazenar os números.\n",
    "# RESOLUÇÃO\n",
    "#Use um range para apresentar os números de 1 a 10\n",
    "#Coloque os valores em uma lista vazia\n",
    "a = []\n",
    "for item in range(1,11):\n",
    "    a.append(item)\n",
    "a"
   ]
  },
  {
   "cell_type": "code",
   "execution_count": 26,
   "metadata": {},
   "outputs": [
    {
     "data": {
      "text/plain": [
       "['', '', '', '', '']"
      ]
     },
     "execution_count": 26,
     "metadata": {},
     "output_type": "execute_result"
    }
   ],
   "source": [
    "# Exercício 2 - Crie uma lista de 5 objetos e imprima na tela\n",
    "# RESOLUÇÃO\n",
    "# Armazene uma lista vazia a uma variável\n",
    "# Deixe o usuário digitar um objeto e o adicione na lista\n",
    "# Use um loop for para fazer essa repetição durante 5 vezes\n",
    "a = []\n",
    "for repete in range(1, 6):\n",
    "    objeto = input(\"Digite qualquer coisa: \")\n",
    "    a.append(objeto)\n",
    "a"
   ]
  },
  {
   "cell_type": "code",
   "execution_count": 27,
   "metadata": {},
   "outputs": [
    {
     "data": {
      "text/plain": [
       "'Olá ! Seja bem vindo! Você vem sempre aqui?'"
      ]
     },
     "execution_count": 27,
     "metadata": {},
     "output_type": "execute_result"
    }
   ],
   "source": [
    "# Exercício 3 - Crie duas strings e concatene as duas em uma terceira string\n",
    "# RESOLUÇÃO\n",
    "# Peça ao usuário digitar o seu nome e armazene o resultado numa váriavel\n",
    "# Escreva um breve cumprimento e guarde numa segunda variável\n",
    "# Por fim imprima na tela o cumprimento e adicione o nome do usuário, guarde isso numa terceira variável\n",
    "a = input('Qual é o seu nome? ')\n",
    "b = f\"Olá {a}! Seja bem vindo! \"\n",
    "a = \"Você vem sempre aqui?\"\n",
    "c = b + a\n",
    "c"
   ]
  },
  {
   "cell_type": "code",
   "execution_count": 28,
   "metadata": {},
   "outputs": [
    {
     "data": {
      "text/plain": [
       "3"
      ]
     },
     "execution_count": 28,
     "metadata": {},
     "output_type": "execute_result"
    }
   ],
   "source": [
    "# Exercício 4 - Crie uma tupla com os seguintes elementos: 1, 2, 2, 3, 4, 4, 4, 5 e depois utilize a função count do \n",
    "# objeto tupla para verificar quantas vezes o número 4 aparece na tupla\n",
    "#RESOLUÇÃO\n",
    "#Atribua os valores determinados a uma tupla por usar parenteses e armazene numa variável.\n",
    "#Use o método count para contar o número 4 dentro da tupla e apresentar na tela o resultado\n",
    "a = (1, 2, 2, 3, 4, 4, 4, 5)\n",
    "a.count(4)"
   ]
  },
  {
   "cell_type": "code",
   "execution_count": 29,
   "metadata": {},
   "outputs": [
    {
     "name": "stdout",
     "output_type": "stream",
     "text": [
      "{}\n"
     ]
    },
    {
     "data": {
      "text/plain": [
       "dict"
      ]
     },
     "execution_count": 29,
     "metadata": {},
     "output_type": "execute_result"
    }
   ],
   "source": [
    "# Exercício 5 - Crie um dicionário vazio e imprima na tela\n",
    "# RESOLUÇÃO\n",
    "# Atribue um dicionário vazio a uma variável por usar chaves.\n",
    "a = {}\n",
    "print(a)\n",
    "type(a)"
   ]
  },
  {
   "cell_type": "code",
   "execution_count": 30,
   "metadata": {},
   "outputs": [
    {
     "data": {
      "text/plain": [
       "{'': ''}"
      ]
     },
     "execution_count": 30,
     "metadata": {},
     "output_type": "execute_result"
    }
   ],
   "source": [
    "# Exercício 6 - Crie um dicionário com 3 chaves e 3 valores e imprima na tela\n",
    "#RESOLUÇÃO\n",
    "#Atribua um dicionário vazio a uma variável.\n",
    "#Pergunte o nome do usuário e guarde numa variável.\n",
    "#Digite um objeto desse usuário e guarde numa segunda variável\n",
    "#Adicione o nome do usuário como chave do dicionário, e coloque o objeto como valor de cada usuário.\n",
    "#Adicione o código acima dentro de um loop que repita três vezes o mesmo procedimento\n",
    "#Imprima o dicionário na tela\n",
    "dict = {}\n",
    "for repete in range(1, 4):\n",
    "    nome = input('Qual é o seu nome? ')\n",
    "    objeto = input(f'Digite um objeto {nome}: ')\n",
    "    dict[nome] = objeto\n",
    "dict\n"
   ]
  },
  {
   "cell_type": "code",
   "execution_count": 31,
   "metadata": {},
   "outputs": [
    {
     "data": {
      "text/plain": [
       "{'': '', 'Alfredão': 'Sanfona'}"
      ]
     },
     "execution_count": 31,
     "metadata": {},
     "output_type": "execute_result"
    }
   ],
   "source": [
    "# Exercício 7 - Adicione mais um elemento ao dicionário criado no exercício anterior e imprima na tela\n",
    "#RESOLUÇÃO\n",
    "#Atribua mais uma chave e valor para o dicionário feito no exercício anterior\n",
    "dict['Alfredão'] = \"Sanfona\"\n",
    "dict"
   ]
  },
  {
   "cell_type": "code",
   "execution_count": 32,
   "metadata": {},
   "outputs": [
    {
     "data": {
      "text/plain": [
       "{'Augusto': 'Violão', 'Enadir': 'Máquina de costura', 'Idades': [31, 71]}"
      ]
     },
     "execution_count": 32,
     "metadata": {},
     "output_type": "execute_result"
    }
   ],
   "source": [
    "# Exercício 8 - Crie um dicionário com 3 chaves e 3 valores. \n",
    "# Um dos valores deve ser uma lista de 2 elementos numéricos. \n",
    "# Imprima o dicionário na tela.\n",
    "#RESOLUÇÃO\n",
    "#Atribue 3 chaves e 3 valores a um dicionário, sendo um dos valores uma lista.\n",
    "dict = {\"Augusto\": \"Violão\", \"Enadir\": \"Máquina de costura\", \"Idades\": [31, 71]}\n",
    "dict"
   ]
  },
  {
   "cell_type": "code",
   "execution_count": 33,
   "metadata": {},
   "outputs": [
    {
     "data": {
      "text/plain": [
       "['Olá!', (31, 71), {'Augusto': 31, 'Enadir': 71}, 3.14]"
      ]
     },
     "execution_count": 33,
     "metadata": {},
     "output_type": "execute_result"
    }
   ],
   "source": [
    "# Exercício 9 - Crie uma lista de 4 elementos. O primeiro elemento deve ser uma string, \n",
    "# o segundo uma tupla de 2 elementos, o terceiro um dcionário com 2 chaves e 2 valores e \n",
    "# o quarto elemento um valor do tipo float.\n",
    "# Imprima a lista.\n",
    "#RESOLUÇÃO\n",
    "#Atribue os valores determinados de uma lista, o primeiro elemento deve ser uma string, o segundo uma tupla com 2 elementos, o terceiro um dicionário com 2 chaves 2 valores e o quarto elemento um valor do tipo float.\n",
    "a = [\"Olá!\", (31, 71), {\"Augusto\": 31, \"Enadir\": 71}, 3.14]\n",
    "a"
   ]
  },
  {
   "cell_type": "code",
   "execution_count": 34,
   "metadata": {},
   "outputs": [
    {
     "data": {
      "text/plain": [
       "'Cientista de Dados'"
      ]
     },
     "execution_count": 34,
     "metadata": {},
     "output_type": "execute_result"
    }
   ],
   "source": [
    "# Exercício 10 - Considere a string abaixo. Imprima na tela apenas os caracteres da posição 1 a 18.\n",
    "frase = 'Cientista de Dados é o profissional mais sexy do século XXI'\n",
    "#RESOLUÇÃO\n",
    "#Use o slice para mostrar somente os indices de 1 a 10.\n",
    "a = frase[:18]\n",
    "a"
   ]
  },
  {
   "attachments": {},
   "cell_type": "markdown",
   "metadata": {},
   "source": [
    "# Fim"
   ]
  },
  {
   "attachments": {},
   "cell_type": "markdown",
   "metadata": {},
   "source": [
    "### Obrigado\n",
    "\n",
    "### Visite o Blog da Data Science Academy - <a href=\"http://blog.dsacademy.com.br\">Blog DSA</a>"
   ]
  }
 ],
 "metadata": {
  "kernelspec": {
   "display_name": "Python 3 (ipykernel)",
   "language": "python",
   "name": "python3"
  },
  "language_info": {
   "codemirror_mode": {
    "name": "ipython",
    "version": 3
   },
   "file_extension": ".py",
   "mimetype": "text/x-python",
   "name": "python",
   "nbconvert_exporter": "python",
   "pygments_lexer": "ipython3",
   "version": "3.11.3"
  }
 },
 "nbformat": 4,
 "nbformat_minor": 1
}
