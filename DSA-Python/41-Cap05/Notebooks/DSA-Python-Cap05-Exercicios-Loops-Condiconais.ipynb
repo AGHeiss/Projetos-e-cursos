{
 "cells": [
  {
   "attachments": {},
   "cell_type": "markdown",
   "metadata": {},
   "source": [
    "# <font color='blue'>Data Science Academy</font>\n",
    "\n",
    "## <font color='blue'>Fundamentos de Linguagem Python Para Análise de Dados e Data Science</font>\n",
    "\n",
    "## <font color='blue'>Capítulo 5 - Exercícios de Loops e Condicionais</font>"
   ]
  },
  {
   "cell_type": "code",
   "execution_count": null,
   "metadata": {},
   "outputs": [],
   "source": [
    "# Versão da Linguagem Python\n",
    "from platform import python_version\n",
    "print('Versão da Linguagem Python Usada Neste Jupyter Notebook:', python_version())"
   ]
  },
  {
   "attachments": {},
   "cell_type": "markdown",
   "metadata": {},
   "source": [
    "## Exercícios - Loops e Condiconais"
   ]
  },
  {
   "cell_type": "code",
   "execution_count": 16,
   "metadata": {},
   "outputs": [
    {
     "name": "stdout",
     "output_type": "stream",
     "text": [
      "Hoje é dia de descanso\n"
     ]
    }
   ],
   "source": [
    "# Exercício 1 - Crie uma estrutura que pergunte ao usuário qual o dia da semana. Se o dia for igual a Domingo ou \n",
    "# igual a sábado, imprima na tela \"Hoje é dia de descanso\", caso contrário imprima na tela \"Você precisa trabalhar!\"\n",
    "\n",
    "#RESOLUÇÃO: Pergunte ao usuário qual o dia da semana, use o método upper da string para transformar tudo em caixa alta, e armazene numa variável\n",
    "#Crie uma condição para dia de semana, segunda a sexta, e outra condição para os outros dias, sabado e domingo. Nessas condições cada condição deve imprimir na tela\n",
    "#uma string pre-determinada.\n",
    "#Armazene todo o código numa função que em caso de erro pelo usuário para que ela execute novamente\n",
    "\n",
    "def dia_da_semana():\n",
    "    dia = input('Qual é o dia da semana?? ')\n",
    "    dia = dia.upper()\n",
    "    if dia == \"SEGUNDA\" or dia == \"TERÇA\" or dia == \"QUARTA\" or dia == \"QUINTA\" or dia == \"SEXTA\":\n",
    "        print(\"Você precisa trabalhar!\")\n",
    "    elif dia == \"SÁBADO\" or dia == \"DOMINGO\":\n",
    "        print(\"Hoje é dia de descanso\")\n",
    "    else:\n",
    "        print('Dia inválido, tente novamente.')\n",
    "        dia_da_semana()\n",
    "\n",
    "dia_da_semana()"
   ]
  },
  {
   "cell_type": "code",
   "execution_count": 22,
   "metadata": {},
   "outputs": [
    {
     "name": "stdout",
     "output_type": "stream",
     "text": [
      "Essa fruta não está na lista. Tente novamente\n",
      "Essa fruta não está na lista. Tente novamente\n",
      "Essa fruta está na lista!\n"
     ]
    }
   ],
   "source": [
    "# Exercício 2 - Crie uma lista de 5 frutas e verifique se a fruta 'Morango' faz parte da lista\n",
    "\n",
    "#RESOLUÇÃO\n",
    "#Crie uma lista com 5 frutas (em caixa alta) e armazene numa variável\n",
    "#Pergunte ao usuário uma fruta e armaze em outra variável, coloque tudo em caixa alta utilizando o método upper()\n",
    "#Verifique se a variável digitada pelo usuário está dentro da lista armazenada em outra variável.\n",
    "#Armazene o código numa função para que em caso de erro o programa seja reiniciado.\n",
    "def Fruta():\n",
    "    frutas = [\"MAÇA\", \"LARANJA\", \"MORANGO\", \"ABACAXI\", \"UVA\"]\n",
    "    fruta = input('Digite uma fruta: ')\n",
    "    fruta = fruta.upper()\n",
    "    if fruta in frutas:\n",
    "        print('Essa fruta está na lista!')\n",
    "    else:\n",
    "        print('Essa fruta não está na lista. Tente novamente')\n",
    "        Fruta()\n",
    "\n",
    "Fruta()\n",
    "\n",
    "\n"
   ]
  },
  {
   "cell_type": "code",
   "execution_count": 24,
   "metadata": {},
   "outputs": [
    {
     "name": "stdout",
     "output_type": "stream",
     "text": [
      "(5, 10, 15, 20)\n",
      "[10, 20, 30, 40]\n"
     ]
    }
   ],
   "source": [
    "# Exercício 3 - Crie uma tupla de 4 elementos, multiplique cada elemento da tupla por 2 e guarde os resultados em uma \n",
    "# lista\n",
    "#RESOLUÇÃO\n",
    "#CRIE UMA LISTA VAZIA E GUARDE NUMA VARIÁVEL\n",
    "#CRIE UMA TUPLA DE 4 ELEMENTOS E GUARDE NUMA VARIÁVEL\n",
    "#USE UM LOOP PARA PERCORRER TODOS OS ELEMENTOS DA TUPLA, E MULTIPLIQUE CADA ELEMENTO POR 2. GUARDE O RESULTADO NA LISTA VAZIA\n",
    "lista = []\n",
    "tupla = (5, 10, 15, 20)\n",
    "for i in tupla:\n",
    "    i = i * 2\n",
    "    lista.append(i)\n",
    "print(tupla)\n",
    "print(lista)"
   ]
  },
  {
   "cell_type": "code",
   "execution_count": 27,
   "metadata": {},
   "outputs": [
    {
     "name": "stdout",
     "output_type": "stream",
     "text": [
      "[100, 102, 104, 106, 108, 110, 112, 114, 116, 118, 120, 122, 124, 126, 128, 130, 132, 134, 136, 138, 140, 142, 144, 146, 148, 150]\n",
      "100\n",
      "102\n",
      "104\n",
      "106\n",
      "108\n",
      "110\n",
      "112\n",
      "114\n",
      "116\n",
      "118\n",
      "120\n",
      "122\n",
      "124\n",
      "126\n",
      "128\n",
      "130\n",
      "132\n",
      "134\n",
      "136\n",
      "138\n",
      "140\n",
      "142\n",
      "144\n",
      "146\n",
      "148\n",
      "150\n"
     ]
    }
   ],
   "source": [
    "# Exercício 4 - Crie uma sequência de números pares entre 100 e 150 e imprima na tela\n",
    "#RESOLUÇÃO\n",
    "#Armazene em uma lista o range entre os números 100 e 150 num passo de 2\n",
    "numeros = list(range(100, 151, 2))\n",
    "print(numeros)\n",
    "for i in numeros:\n",
    "    print(i)"
   ]
  },
  {
   "cell_type": "code",
   "execution_count": null,
   "metadata": {},
   "outputs": [],
   "source": [
    "# Exercício 5 - Crie uma variável chamada temperatura e atribua o valor 40. Enquanto temperatura for maior que 35, \n",
    "# imprima as temperaturas na tela\n",
    "\n",
    "#RESOLUÇÃO\n",
    "#Crie uma variável com o valor 0, coloque dentro de um loop enquanto o valor for 0, pergunte ao usuário qual é a temperatura.\n",
    "#Se a temperatura for maior que 35, imprima as temperaturas na tela\n"
   ]
  },
  {
   "cell_type": "code",
   "execution_count": null,
   "metadata": {},
   "outputs": [],
   "source": [
    "# Exercício 6 - Crie uma variável chamada contador = 0. Enquanto counter for menor que 100, imprima os valores na tela,\n",
    "# mas quando for encontrado o valor 23, interrompa a execução do programa"
   ]
  },
  {
   "cell_type": "code",
   "execution_count": null,
   "metadata": {},
   "outputs": [],
   "source": [
    "# Exercício 7 - Crie uma lista vazia e uma variável com valor 4. Enquanto o valor da variável for menor ou igual a 20, \n",
    "# adicione à lista, apenas os valores pares e imprima a lista"
   ]
  },
  {
   "cell_type": "code",
   "execution_count": null,
   "metadata": {},
   "outputs": [],
   "source": [
    "# Exercício 8 - Transforme o resultado desta função range em uma lista: range(5, 45, 2)\n",
    "nums = range(5, 45, 2)"
   ]
  },
  {
   "cell_type": "code",
   "execution_count": null,
   "metadata": {},
   "outputs": [],
   "source": [
    "# Exercício 9 - Faça a correção dos erros no código abaixo e execute o programa. Dica: são 3 erros.\n",
    "temperatura = float(input('Qual a temperatura? '))\n",
    "if temperatura > 30\n",
    "print('Vista roupas leves.')\n",
    "else\n",
    "    print('Busque seus casacos.')"
   ]
  },
  {
   "cell_type": "code",
   "execution_count": null,
   "metadata": {},
   "outputs": [],
   "source": [
    "# Exercício 10 - Faça um programa que conte quantas vezes a letra \"r\" aparece na frase abaixo. Use um placeholder na \n",
    "# sua instrução de impressão\n",
    "\n",
    "# “A gratidão é a virtude das almas nobres. O quão feliz é uma pessoa depende da profundidade de sua gratidão.” \n",
    "\n",
    "frase = \"A gratidão é a virtude das almas nobres. O quão feliz é uma pessoa depende da profundidade de sua gratidão.\" "
   ]
  },
  {
   "attachments": {},
   "cell_type": "markdown",
   "metadata": {},
   "source": [
    "# Fim"
   ]
  },
  {
   "attachments": {},
   "cell_type": "markdown",
   "metadata": {},
   "source": [
    "### Obrigado\n",
    "\n",
    "### Visite o Blog da Data Science Academy - <a href=\"http://blog.dsacademy.com.br\">Blog DSA</a>"
   ]
  }
 ],
 "metadata": {
  "kernelspec": {
   "display_name": "Python 3 (ipykernel)",
   "language": "python",
   "name": "python3"
  },
  "language_info": {
   "codemirror_mode": {
    "name": "ipython",
    "version": 3
   },
   "file_extension": ".py",
   "mimetype": "text/x-python",
   "name": "python",
   "nbconvert_exporter": "python",
   "pygments_lexer": "ipython3",
   "version": "3.11.3"
  }
 },
 "nbformat": 4,
 "nbformat_minor": 1
}
