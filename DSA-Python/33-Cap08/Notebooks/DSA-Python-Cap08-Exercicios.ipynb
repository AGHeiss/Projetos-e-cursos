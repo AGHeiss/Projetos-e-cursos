{
 "cells": [
  {
   "attachments": {},
   "cell_type": "markdown",
   "metadata": {},
   "source": [
    "# <font color='blue'>Data Science Academy</font>\n",
    "\n",
    "## <font color='blue'>Fundamentos de Linguagem Python Para Análise de Dados e Data Science</font>\n",
    "\n",
    "## <font color='blue'>Introdução à Programação Orientada a Objetos</font>"
   ]
  },
  {
   "cell_type": "code",
   "execution_count": 1,
   "metadata": {},
   "outputs": [
    {
     "name": "stdout",
     "output_type": "stream",
     "text": [
      "Versão da Linguagem Python Usada Neste Jupyter Notebook: 3.9.13\n"
     ]
    }
   ],
   "source": [
    "# Versão da Linguagem Python\n",
    "from platform import python_version\n",
    "print('Versão da Linguagem Python Usada Neste Jupyter Notebook:', python_version())"
   ]
  },
  {
   "attachments": {},
   "cell_type": "markdown",
   "metadata": {},
   "source": [
    "## Exercícios"
   ]
  },
  {
   "cell_type": "code",
   "execution_count": 7,
   "metadata": {},
   "outputs": [
    {
     "name": "stdout",
     "output_type": "stream",
     "text": [
      "158 256\n",
      "208 306\n"
     ]
    },
    {
     "data": {
      "text/plain": [
       "306"
      ]
     },
     "execution_count": 7,
     "metadata": {},
     "output_type": "execute_result"
    }
   ],
   "source": [
    "# Exercício 1 - Crie um objeto a partir da classe abaixo, chamado roc1, \n",
    "# passando 2 parâmetros e depois faça uma chamada aos atributos e métodos\n",
    "from math import sqrt\n",
    "\n",
    "class Rocket():\n",
    "     \n",
    "    def __init__(self, x=0, y=0):\n",
    "        self.x = x\n",
    "        self.y = y\n",
    "        \n",
    "    def move_rocket(self, x_increment=0, y_increment=1):\n",
    "        self.x += x_increment\n",
    "        self.y += y_increment\n",
    "        \n",
    "    def print_rocket(self):\n",
    "        print(self.x, self.y)\n",
    "\n",
    "roc1 = Rocket(158, 256)\n",
    "roc1.print_rocket()\n",
    "roc1.move_rocket(50, 50)\n",
    "roc1.print_rocket()\n",
    "roc1.x\n",
    "roc1.y"
   ]
  },
  {
   "cell_type": "code",
   "execution_count": 15,
   "metadata": {},
   "outputs": [
    {
     "name": "stdout",
     "output_type": "stream",
     "text": [
      "Nome: Pedro\n",
      "Mora na cidade: Suzano\n",
      "Telefone: 75648812\n",
      "Email: pedrotiotop@gmail.com\n",
      "E ae! Blz Pedro??\n",
      "Os dados foram atualizados!\n",
      "Nome: Pedro\n",
      "Mora na cidade: São José do Rio Preto\n",
      "Telefone: 75648812\n",
      "Email: pedrotiotop@gmail.com\n"
     ]
    },
    {
     "data": {
      "text/plain": [
       "'pedrotiotop@gmail.com'"
      ]
     },
     "execution_count": 15,
     "metadata": {},
     "output_type": "execute_result"
    }
   ],
   "source": [
    "# Exercício 2 - Crie uma classe chamada Pessoa() com os atributos: nome, cidade, telefone e e-mail. Use pelo menos 2\n",
    "# métodos especiais na sua classe. Crie um objeto da sua classe e faça uma chamada a pelo menos um dos seus métodos\n",
    "# especiais.\n",
    "\n",
    "class Pessoa():\n",
    "\n",
    "    def __init__(self, nome, cidade, telefone, email):\n",
    "        self.nome = nome\n",
    "        self.cidade = cidade\n",
    "        self.telefone = telefone\n",
    "        self.email = email\n",
    "\n",
    "    def imprime(self):\n",
    "        print(f'Nome: {self.nome}\\nMora na cidade: {self.cidade}\\nTelefone: {self.telefone}\\nEmail: {self.email}')\n",
    "\n",
    "    def CidadeSet(self, nova_cidade):\n",
    "        self.cidade = nova_cidade\n",
    "        print(f'Os dados foram atualizados!')\n",
    "    \n",
    "    def NomeGet(self):\n",
    "        print(f'E ae! Blz {self.nome}??')\n",
    "\n",
    "pessoa1 = Pessoa('Pedro', 'Suzano', '75648812', 'pedrotiotop@gmail.com')\n",
    "pessoa1.imprime()\n",
    "pessoa1.NomeGet()\n",
    "pessoa1.CidadeSet('São José do Rio Preto')\n",
    "pessoa1.imprime()"
   ]
  },
  {
   "cell_type": "code",
   "execution_count": 16,
   "metadata": {},
   "outputs": [
    {
     "name": "stdout",
     "output_type": "stream",
     "text": [
      "Capacidade: 4ghz\n",
      "Tamanho: 126\n",
      "Interface: Android\n"
     ]
    }
   ],
   "source": [
    "# Exercício 3 - Crie a classe Smartphone com 2 atributos, tamanho e interface e crie a classe MP3Player com os \n",
    "# atributos capacidade. A classe MP3player deve herdar os atributos da classe Smartphone.\n",
    "\n",
    "class Smartphone():\n",
    "\n",
    "    def __init__(self, tamanho, interface):\n",
    "        self.tamanho = tamanho\n",
    "        self.interface = interface\n",
    "\n",
    "    def imprime(self):\n",
    "        print(f'Tamanho: {self.tamanho}\\nInterface: {self.interface}')\n",
    "\n",
    "class MP3Player(Smartphone):\n",
    "\n",
    "    def __init__(self, tamanho, interface, capacidade):\n",
    "        super().__init__(tamanho, interface)\n",
    "        self.capacidade = capacidade\n",
    "\n",
    "    def imprime(self):\n",
    "        print(f'Capacidade: {self.capacidade}')\n",
    "        return super().imprime()\n",
    "    \n",
    "mp3 = MP3Player('126', 'Android', '4ghz')\n",
    "mp3.imprime()\n"
   ]
  },
  {
   "attachments": {},
   "cell_type": "markdown",
   "metadata": {},
   "source": [
    "### FIM"
   ]
  },
  {
   "attachments": {},
   "cell_type": "markdown",
   "metadata": {},
   "source": [
    "### Obrigado\n",
    "\n",
    "### Visite o Blog da Data Science Academy - <a href=\"http://blog.dsacademy.com.br\">Blog DSA</a>"
   ]
  }
 ],
 "metadata": {
  "kernelspec": {
   "display_name": "Python 3 (ipykernel)",
   "language": "python",
   "name": "python3"
  },
  "language_info": {
   "codemirror_mode": {
    "name": "ipython",
    "version": 3
   },
   "file_extension": ".py",
   "mimetype": "text/x-python",
   "name": "python",
   "nbconvert_exporter": "python",
   "pygments_lexer": "ipython3",
   "version": "3.11.3"
  }
 },
 "nbformat": 4,
 "nbformat_minor": 1
}
